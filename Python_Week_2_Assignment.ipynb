{
  "nbformat": 4,
  "nbformat_minor": 0,
  "metadata": {
    "colab": {
      "provenance": []
    },
    "kernelspec": {
      "name": "python3",
      "display_name": "Python 3"
    },
    "language_info": {
      "name": "python"
    }
  },
  "cells": [
    {
      "cell_type": "markdown",
      "source": [
        "1. Write an interactive Python Program to implement following “Guess Game”"
      ],
      "metadata": {
        "id": "oto6sD_GuyI2"
      }
    },
    {
      "cell_type": "code",
      "source": [
        "secretNumber=7\n",
        "while guess != secretNumber:\n",
        " guess=int(input('Enter a number'))\n",
        "\n",
        " if secretNumber==guess:\n",
        "  print('Congratulations! You guessed the number correctly!')\n",
        " elif guess>secretNumber:\n",
        "  print('Too high! Try again.')\n",
        " else:\n",
        "  print('Too low! Try again')"
      ],
      "metadata": {
        "colab": {
          "base_uri": "https://localhost:8080/"
        },
        "id": "9KzI2QFHtl0O",
        "outputId": "dff31bfd-246f-40a2-ef01-5a2757cea7d8"
      },
      "execution_count": 5,
      "outputs": [
        {
          "output_type": "stream",
          "name": "stdout",
          "text": [
            "Enter a number6\n",
            "Too low! Try again\n",
            "Enter a number0\n",
            "Too low! Try again\n",
            "Enter a number7\n",
            "Congratulations! You guessed the number correctly!\n"
          ]
        }
      ]
    },
    {
      "cell_type": "markdown",
      "source": [
        "2. Write a program to find and print the Factorial of this number"
      ],
      "metadata": {
        "id": "upElohFB3f7X"
      }
    },
    {
      "cell_type": "code",
      "source": [
        "num = int(input(\"Enter a number: \"))\n",
        "\n",
        "factorial = 1\n",
        "if num < 0:\n",
        "   print(\"Sorry, factorial does not exist for negative numbers\")\n",
        "elif num == 0:\n",
        "   print(\"The factorial of 0 is 1\")\n",
        "else:\n",
        "   for i in range(1,num + 1):\n",
        "       factorial = factorial*i\n",
        "   print(\"The factorial of\",num,\"is\",factorial)"
      ],
      "metadata": {
        "id": "xoLpgHpEt5rE"
      },
      "execution_count": null,
      "outputs": []
    },
    {
      "cell_type": "markdown",
      "source": [
        "3. Roy wants to change his profile picture on Facebook"
      ],
      "metadata": {
        "id": "blqiQGuJuCKR"
      }
    },
    {
      "cell_type": "code",
      "source": [
        "length = 500\n",
        "w,h = map(int,input().split())\n",
        "if w<length or h<length:\n",
        "  print(\"UPLOAD ANOTHER\")\n",
        "elif w>=length or h>=length and w==h:\n",
        "  #if w==h:\n",
        "    print(\"ACCEPTED\")\n",
        "else:\n",
        "    print(\"CROP IT\")"
      ],
      "metadata": {
        "id": "h9Hl01VUuJIc"
      },
      "execution_count": null,
      "outputs": []
    },
    {
      "cell_type": "code",
      "source": [],
      "metadata": {
        "id": "KxWmOOAfuUzN"
      },
      "execution_count": null,
      "outputs": []
    }
  ]
}