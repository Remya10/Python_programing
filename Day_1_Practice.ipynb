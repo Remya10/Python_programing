{
  "nbformat": 4,
  "nbformat_minor": 0,
  "metadata": {
    "colab": {
      "provenance": []
    },
    "kernelspec": {
      "name": "python3",
      "display_name": "Python 3"
    },
    "language_info": {
      "name": "python"
    }
  },
  "cells": [
    {
      "cell_type": "code",
      "execution_count": 2,
      "metadata": {
        "colab": {
          "base_uri": "https://localhost:8080/"
        },
        "id": "J0ufSQAMcxY_",
        "outputId": "69217e59-6ae0-4bf0-c10d-b870ec50af60"
      },
      "outputs": [
        {
          "output_type": "stream",
          "name": "stdout",
          "text": [
            "Hello\n"
          ]
        }
      ],
      "source": [
        "Question:1\n",
        "\n",
        "s=\"Hello, World!\"\n",
        "print(s[0:5])"
      ]
    },
    {
      "cell_type": "code",
      "source": [
        "Question:2\n",
        "\n",
        "s=\"Python is fun\"\n",
        "print(s[7:9])"
      ],
      "metadata": {
        "colab": {
          "base_uri": "https://localhost:8080/"
        },
        "id": "ht8KQNbXdd8K",
        "outputId": "f133043c-20a5-49dd-a478-394f981d87ac"
      },
      "execution_count": 3,
      "outputs": [
        {
          "output_type": "stream",
          "name": "stdout",
          "text": [
            "is\n"
          ]
        }
      ]
    },
    {
      "cell_type": "code",
      "source": [
        "Question:3\n",
        "\n",
        "s=\"Programming\"\n",
        "print(s[3:7])"
      ],
      "metadata": {
        "colab": {
          "base_uri": "https://localhost:8080/"
        },
        "id": "tzGEBCsxefHF",
        "outputId": "cb8cef10-5424-464e-c0f9-4d3e50231639"
      },
      "execution_count": 5,
      "outputs": [
        {
          "output_type": "stream",
          "name": "stdout",
          "text": [
            "gram\n"
          ]
        }
      ]
    },
    {
      "cell_type": "code",
      "source": [
        "Question:4\n",
        "\n",
        "s=\"abcdefgh\"\n",
        "print(s[2:8:2])"
      ],
      "metadata": {
        "colab": {
          "base_uri": "https://localhost:8080/"
        },
        "id": "gSBZXU4XfQbc",
        "outputId": "7a7bd313-38bf-44c1-c8d9-84d1d461e3bd"
      },
      "execution_count": 6,
      "outputs": [
        {
          "output_type": "stream",
          "name": "stdout",
          "text": [
            "ceg\n"
          ]
        }
      ]
    },
    {
      "cell_type": "code",
      "source": [
        "Question:5\n",
        "\n",
        "s=\"abcdefg\"\n",
        "print(s[-3:])"
      ],
      "metadata": {
        "colab": {
          "base_uri": "https://localhost:8080/"
        },
        "id": "RNygM0EGf4Py",
        "outputId": "cf0210c4-7e87-488d-e66b-9df7028f6e09"
      },
      "execution_count": 18,
      "outputs": [
        {
          "output_type": "stream",
          "name": "stdout",
          "text": [
            "efg\n"
          ]
        }
      ]
    },
    {
      "cell_type": "code",
      "source": [
        "Question:6\n",
        "\n",
        "s=\"Data Science\"\n",
        "print(s[-3:])"
      ],
      "metadata": {
        "colab": {
          "base_uri": "https://localhost:8080/"
        },
        "id": "Z2GSgaZCgOlw",
        "outputId": "c4173c4f-1044-4092-f5e5-372e6d9f1369"
      },
      "execution_count": 15,
      "outputs": [
        {
          "output_type": "stream",
          "name": "stdout",
          "text": [
            "nce\n"
          ]
        }
      ]
    },
    {
      "cell_type": "code",
      "source": [
        "Question:7\n",
        "\n",
        "s=\"abcdefghij\"\n",
        "print(s[1:11:2])"
      ],
      "metadata": {
        "colab": {
          "base_uri": "https://localhost:8080/"
        },
        "id": "BayGOnTMiDjd",
        "outputId": "be4b5e81-fa18-4292-fc41-feb3dfe7ee88"
      },
      "execution_count": 17,
      "outputs": [
        {
          "output_type": "stream",
          "name": "stdout",
          "text": [
            "bdfhj\n"
          ]
        }
      ]
    },
    {
      "cell_type": "code",
      "source": [
        "Question:8\n",
        "\n",
        "s=\"1234567890\"\n",
        "print(s[0:12:2])"
      ],
      "metadata": {
        "colab": {
          "base_uri": "https://localhost:8080/"
        },
        "id": "oc8wu8NRiY87",
        "outputId": "e9c5cc7b-1e2f-4f97-9578-aad9e5bdddfb"
      },
      "execution_count": 19,
      "outputs": [
        {
          "output_type": "stream",
          "name": "stdout",
          "text": [
            "13579\n"
          ]
        }
      ]
    },
    {
      "cell_type": "code",
      "source": [
        "Question:9\n",
        "\n",
        "s=\"Hello\"\n",
        "print(s[::-1])"
      ],
      "metadata": {
        "colab": {
          "base_uri": "https://localhost:8080/"
        },
        "id": "UKPKEou4jOa-",
        "outputId": "39be80d2-1bb2-43a6-eaa5-dd1f0ea8cfda"
      },
      "execution_count": 29,
      "outputs": [
        {
          "output_type": "stream",
          "name": "stdout",
          "text": [
            "olleH\n"
          ]
        }
      ]
    },
    {
      "cell_type": "code",
      "source": [
        "Question:10\n",
        "\n",
        "s=\"abcdefghijk\"\n",
        "print(s[0:12:2])"
      ],
      "metadata": {
        "colab": {
          "base_uri": "https://localhost:8080/"
        },
        "id": "z5HXo6XnjwVd",
        "outputId": "b4485c2a-d516-40b9-c3e9-817fd6d0867d"
      },
      "execution_count": 30,
      "outputs": [
        {
          "output_type": "stream",
          "name": "stdout",
          "text": [
            "acegik\n"
          ]
        }
      ]
    }
  ]
}