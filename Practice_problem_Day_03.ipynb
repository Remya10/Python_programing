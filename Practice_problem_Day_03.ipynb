{
  "nbformat": 4,
  "nbformat_minor": 0,
  "metadata": {
    "colab": {
      "provenance": []
    },
    "kernelspec": {
      "name": "python3",
      "display_name": "Python 3"
    },
    "language_info": {
      "name": "python"
    }
  },
  "cells": [
    {
      "cell_type": "markdown",
      "source": [
        "1.  Given the participants' score sheet for your University Sports Day, you are required to\n",
        "find the runner-up score. You are given scores. Store them in a list and find the score of\n",
        "the runner-up. (Create an array of scores and print the runner up score)"
      ],
      "metadata": {
        "id": "98kFywrc9Uwk"
      }
    },
    {
      "cell_type": "code",
      "source": [
        "list_val = [80, 60, 90, 70, 10]\n",
        "list_val.sort()\n",
        "print(\"The runner up score is:\", list_val[-2])"
      ],
      "metadata": {
        "colab": {
          "base_uri": "https://localhost:8080/"
        },
        "id": "ExpuHg_09X5y",
        "outputId": "d890f590-0724-4db7-b0e4-aa3138f82bc3"
      },
      "execution_count": 2,
      "outputs": [
        {
          "output_type": "stream",
          "name": "stdout",
          "text": [
            "The runner up score: 80\n"
          ]
        }
      ]
    },
    {
      "cell_type": "markdown",
      "source": [
        "\n",
        "2.  A dictionary is given D={‘John’ [25,32,43],’Peter’:[87,55,96],’Ram’:[58,55,43],’Meena’:[63,79,85]}\n",
        "Get a name from user if the name in the dictionary change the values corresponding to\n",
        "that user to [88,737,99] and print the dictionary. Else print ‘Name not found’."
      ],
      "metadata": {
        "id": "a4LADFsoMwuW"
      }
    },
    {
      "cell_type": "code",
      "execution_count": null,
      "metadata": {
        "id": "nLjmwOiNx-Jn"
      },
      "outputs": [],
      "source": [
        "candidate_name={'John':[25,32,43],'Peter':[87,55,96],'Ram':[58,55,43],'Meena':[63,79,85]}\n",
        "\n",
        "user_name=input(\"Enter the candidate name\")\n",
        "#value=[88,77,99]\n",
        "if user_name in candidate_name:\n",
        " # candidate_name['']=[88,77,99]\n",
        "  print(candidate_name)\n",
        "else:\n",
        "  print('Name not found')"
      ]
    },
    {
      "cell_type": "markdown",
      "source": [
        "3.  Ticket Price Calculator:"
      ],
      "metadata": {
        "id": "Jtm0QD0R0ozJ"
      }
    },
    {
      "cell_type": "code",
      "source": [
        "\n",
        "age=int(input('please give your age'))\n",
        "gender=input(\"Enter Your gender\")\n",
        "\n",
        "\n",
        "if age<5 and age>1 or age>=60:\n",
        "  print(\"Ticket price is free\")\n",
        "elif age>=5 and age<=12:\n",
        "  if gender=='male':\n",
        "    print(\"Ticket price is Rs.10\")\n",
        "  else:\n",
        "    print(\"Ticket price is Rs.5\")\n",
        "elif age>12 and age<60:\n",
        "  if gender=='male':\n",
        "    print(\"Ticket price is Rs.50\")\n",
        "  else:\n",
        "    print(\"Ticket price is Rs.25\")\n",
        "\n",
        "else:\n",
        " print(\"Invalid age\")"
      ],
      "metadata": {
        "colab": {
          "base_uri": "https://localhost:8080/"
        },
        "id": "iINhwu_O0uyK",
        "outputId": "cfc2c01e-39c4-4d2c-8e2d-f007d0767940"
      },
      "execution_count": 28,
      "outputs": [
        {
          "output_type": "stream",
          "name": "stdout",
          "text": [
            "please give your age8\n",
            "Enter Your genderfemale\n",
            "Ticket price is Rs.5\n"
          ]
        }
      ]
    }
  ]
}